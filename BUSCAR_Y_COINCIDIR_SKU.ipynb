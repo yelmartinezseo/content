{
  "nbformat": 4,
  "nbformat_minor": 0,
  "metadata": {
    "colab": {
      "provenance": [],
      "authorship_tag": "ABX9TyOf7BanBmZr/UrajAu/0uEB",
      "include_colab_link": true
    },
    "kernelspec": {
      "name": "python3",
      "display_name": "Python 3"
    },
    "language_info": {
      "name": "python"
    }
  },
  "cells": [
    {
      "cell_type": "markdown",
      "metadata": {
        "id": "view-in-github",
        "colab_type": "text"
      },
      "source": [
        "<a href=\"https://colab.research.google.com/github/yelmartinezseo/content/blob/main/BUSCAR_Y_COINCIDIR_SKU.ipynb\" target=\"_parent\"><img src=\"https://colab.research.google.com/assets/colab-badge.svg\" alt=\"Open In Colab\"/></a>"
      ]
    },
    {
      "cell_type": "code",
      "execution_count": null,
      "metadata": {
        "id": "qqsNHktmJai0"
      },
      "outputs": [],
      "source": [
        "import pandas as pd\n",
        "\n",
        "# Cargar los archivos CSV en dos dataframes\n",
        "df1 = pd.read_csv('archivo1.csv')\n",
        "df2 = pd.read_csv('archivo2.csv')\n",
        "\n",
        "# Crear una nueva columna \"Coincidir\" en df1\n",
        "df1['Coincidir'] = None\n",
        "\n",
        "# Recorrer la primera columna de df1\n",
        "for index, row in df1.iterrows():\n",
        "    valor_buscar = row['Nombre_Columna1']  # Reemplaza 'Nombre_Columna1' por el nombre de la columna en df1\n",
        "    coincidencia = df2[df2['Nombre_Columna2'] == valor_buscar]  # Reemplaza 'Nombre_Columna2' por el nombre de la columna en df2\n",
        "\n",
        "    if not coincidencia.empty:\n",
        "        valor_coincidir = coincidencia.iloc[0]['Nombre_Columna2']  # Reemplaza 'Nombre_Columna2' por el nombre de la columna en df2\n",
        "        df1.at[index, 'Coincidir'] = valor_coincidir\n",
        "    else:\n",
        "        # Si no se encuentra una coincidencia, sugerir una relación\n",
        "        df1.at[index, 'Coincidir'] = 'sugerencia: otra similitud'\n",
        "\n",
        "# Guardar el resultado en un nuevo archivo CSV\n",
        "df1.to_csv('archivo_resultado.csv', index=False)\n",
        "\n",
        "# Mostrar un aviso\n",
        "print(\"Match terminado. El resultado se ha guardado en 'archivo_resultado.csv'\")"
      ]
    }
  ]
}